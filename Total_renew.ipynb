{
  "nbformat": 4,
  "nbformat_minor": 0,
  "metadata": {
    "colab": {
      "provenance": [],
      "collapsed_sections": [
        "3yTlTszKd5om",
        "u7EnZuLJd_JE",
        "LVVHzYwCfpGx",
        "504Pcz2KCayg",
        "7P-R9eXzFjab",
        "gWSvz39vFk9K",
        "sOJAcDkxG-gh",
        "7F663x_iLEVD",
        "knZBxFYFLIGQ",
        "RfMBJI9eLLQi",
        "hZnvNDByQeXB",
        "KcYdu_EaQh5t",
        "Xe3jAJ4gQ-o3",
        "awVyA0Go0taS",
        "j78m12wc0DX9"
      ]
    },
    "kernelspec": {
      "name": "python3",
      "display_name": "Python 3"
    },
    "language_info": {
      "name": "python"
    }
  },
  "cells": [
    {
      "cell_type": "markdown",
      "metadata": {
        "id": "3yTlTszKd5om"
      },
      "source": [
        "#### dependencies"
      ]
    },
    {
      "cell_type": "code",
      "execution_count": null,
      "metadata": {
        "id": "vUDSrFZWROGP"
      },
      "outputs": [],
      "source": [
        "!pip install EMD-signal\n",
        "!pip install prophet\n",
        "!pip install xlrd ==2.0.1\n",
        "!pip install pmdarima"
      ]
    },
    {
      "cell_type": "code",
      "execution_count": null,
      "metadata": {
        "id": "UJgLmieQqXdo"
      },
      "outputs": [],
      "source": [
        "# !pip freeze > requirements.txt\n",
        "# !pip uninstall -r requirements.txt -y"
      ]
    },
    {
      "cell_type": "markdown",
      "metadata": {
        "id": "u7EnZuLJd_JE"
      },
      "source": [
        "#### imports"
      ]
    },
    {
      "cell_type": "code",
      "execution_count": null,
      "metadata": {
        "id": "cFWfRe3pT-gR"
      },
      "outputs": [],
      "source": [
        "import pandas as pd\n",
        "import numpy as np\n",
        "import matplotlib.pyplot as plt\n",
        "from sklearn.metrics import mean_absolute_percentage_error , mean_squared_error, mean_absolute_error"
      ]
    },
    {
      "cell_type": "code",
      "execution_count": null,
      "metadata": {
        "id": "9UVSwc5G4aly"
      },
      "outputs": [],
      "source": [
        "from PyEMD import EMD\n",
        "from PyEMD import CEEMDAN\n",
        "from prophet import Prophet\n",
        "from pmdarima import auto_arima"
      ]
    },
    {
      "cell_type": "markdown",
      "metadata": {
        "id": "3T08kRJBfZpI"
      },
      "source": [
        "# **3.Total Energy**"
      ]
    },
    {
      "cell_type": "markdown",
      "metadata": {
        "id": "LVVHzYwCfpGx"
      },
      "source": [
        "## 3.0 read data"
      ]
    },
    {
      "cell_type": "code",
      "execution_count": null,
      "metadata": {
        "id": "rkfuLdRnfhpu",
        "colab": {
          "base_uri": "https://localhost:8080/",
          "height": 206
        },
        "outputId": "e5581729-45ce-4831-98bf-6a2f293e96ee"
      },
      "outputs": [
        {
          "output_type": "execute_result",
          "data": {
            "text/plain": [
              "         y\n",
              "0  162.518\n",
              "1  153.759\n",
              "2  156.994\n",
              "3  151.019\n",
              "4  154.153"
            ],
            "text/html": [
              "\n",
              "\n",
              "  <div id=\"df-9b754d0b-50d4-48ea-b0ad-8794e197e7c5\">\n",
              "    <div class=\"colab-df-container\">\n",
              "      <div>\n",
              "<style scoped>\n",
              "    .dataframe tbody tr th:only-of-type {\n",
              "        vertical-align: middle;\n",
              "    }\n",
              "\n",
              "    .dataframe tbody tr th {\n",
              "        vertical-align: top;\n",
              "    }\n",
              "\n",
              "    .dataframe thead th {\n",
              "        text-align: right;\n",
              "    }\n",
              "</style>\n",
              "<table border=\"1\" class=\"dataframe\">\n",
              "  <thead>\n",
              "    <tr style=\"text-align: right;\">\n",
              "      <th></th>\n",
              "      <th>y</th>\n",
              "    </tr>\n",
              "  </thead>\n",
              "  <tbody>\n",
              "    <tr>\n",
              "      <th>0</th>\n",
              "      <td>162.518</td>\n",
              "    </tr>\n",
              "    <tr>\n",
              "      <th>1</th>\n",
              "      <td>153.759</td>\n",
              "    </tr>\n",
              "    <tr>\n",
              "      <th>2</th>\n",
              "      <td>156.994</td>\n",
              "    </tr>\n",
              "    <tr>\n",
              "      <th>3</th>\n",
              "      <td>151.019</td>\n",
              "    </tr>\n",
              "    <tr>\n",
              "      <th>4</th>\n",
              "      <td>154.153</td>\n",
              "    </tr>\n",
              "  </tbody>\n",
              "</table>\n",
              "</div>\n",
              "      <button class=\"colab-df-convert\" onclick=\"convertToInteractive('df-9b754d0b-50d4-48ea-b0ad-8794e197e7c5')\"\n",
              "              title=\"Convert this dataframe to an interactive table.\"\n",
              "              style=\"display:none;\">\n",
              "\n",
              "  <svg xmlns=\"http://www.w3.org/2000/svg\" height=\"24px\"viewBox=\"0 0 24 24\"\n",
              "       width=\"24px\">\n",
              "    <path d=\"M0 0h24v24H0V0z\" fill=\"none\"/>\n",
              "    <path d=\"M18.56 5.44l.94 2.06.94-2.06 2.06-.94-2.06-.94-.94-2.06-.94 2.06-2.06.94zm-11 1L8.5 8.5l.94-2.06 2.06-.94-2.06-.94L8.5 2.5l-.94 2.06-2.06.94zm10 10l.94 2.06.94-2.06 2.06-.94-2.06-.94-.94-2.06-.94 2.06-2.06.94z\"/><path d=\"M17.41 7.96l-1.37-1.37c-.4-.4-.92-.59-1.43-.59-.52 0-1.04.2-1.43.59L10.3 9.45l-7.72 7.72c-.78.78-.78 2.05 0 2.83L4 21.41c.39.39.9.59 1.41.59.51 0 1.02-.2 1.41-.59l7.78-7.78 2.81-2.81c.8-.78.8-2.07 0-2.86zM5.41 20L4 18.59l7.72-7.72 1.47 1.35L5.41 20z\"/>\n",
              "  </svg>\n",
              "      </button>\n",
              "\n",
              "\n",
              "\n",
              "    <div id=\"df-8d0025f1-d2af-4f9a-97ec-625a84acc80b\">\n",
              "      <button class=\"colab-df-quickchart\" onclick=\"quickchart('df-8d0025f1-d2af-4f9a-97ec-625a84acc80b')\"\n",
              "              title=\"Suggest charts.\"\n",
              "              style=\"display:none;\">\n",
              "\n",
              "<svg xmlns=\"http://www.w3.org/2000/svg\" height=\"24px\"viewBox=\"0 0 24 24\"\n",
              "     width=\"24px\">\n",
              "    <g>\n",
              "        <path d=\"M19 3H5c-1.1 0-2 .9-2 2v14c0 1.1.9 2 2 2h14c1.1 0 2-.9 2-2V5c0-1.1-.9-2-2-2zM9 17H7v-7h2v7zm4 0h-2V7h2v10zm4 0h-2v-4h2v4z\"/>\n",
              "    </g>\n",
              "</svg>\n",
              "      </button>\n",
              "    </div>\n",
              "\n",
              "<style>\n",
              "  .colab-df-quickchart {\n",
              "    background-color: #E8F0FE;\n",
              "    border: none;\n",
              "    border-radius: 50%;\n",
              "    cursor: pointer;\n",
              "    display: none;\n",
              "    fill: #1967D2;\n",
              "    height: 32px;\n",
              "    padding: 0 0 0 0;\n",
              "    width: 32px;\n",
              "  }\n",
              "\n",
              "  .colab-df-quickchart:hover {\n",
              "    background-color: #E2EBFA;\n",
              "    box-shadow: 0px 1px 2px rgba(60, 64, 67, 0.3), 0px 1px 3px 1px rgba(60, 64, 67, 0.15);\n",
              "    fill: #174EA6;\n",
              "  }\n",
              "\n",
              "  [theme=dark] .colab-df-quickchart {\n",
              "    background-color: #3B4455;\n",
              "    fill: #D2E3FC;\n",
              "  }\n",
              "\n",
              "  [theme=dark] .colab-df-quickchart:hover {\n",
              "    background-color: #434B5C;\n",
              "    box-shadow: 0px 1px 3px 1px rgba(0, 0, 0, 0.15);\n",
              "    filter: drop-shadow(0px 1px 2px rgba(0, 0, 0, 0.3));\n",
              "    fill: #FFFFFF;\n",
              "  }\n",
              "</style>\n",
              "\n",
              "    <script>\n",
              "      async function quickchart(key) {\n",
              "        const containerElement = document.querySelector('#' + key);\n",
              "        const charts = await google.colab.kernel.invokeFunction(\n",
              "            'suggestCharts', [key], {});\n",
              "      }\n",
              "    </script>\n",
              "\n",
              "      <script>\n",
              "\n",
              "function displayQuickchartButton(domScope) {\n",
              "  let quickchartButtonEl =\n",
              "    domScope.querySelector('#df-8d0025f1-d2af-4f9a-97ec-625a84acc80b button.colab-df-quickchart');\n",
              "  quickchartButtonEl.style.display =\n",
              "    google.colab.kernel.accessAllowed ? 'block' : 'none';\n",
              "}\n",
              "\n",
              "        displayQuickchartButton(document);\n",
              "      </script>\n",
              "      <style>\n",
              "    .colab-df-container {\n",
              "      display:flex;\n",
              "      flex-wrap:wrap;\n",
              "      gap: 12px;\n",
              "    }\n",
              "\n",
              "    .colab-df-convert {\n",
              "      background-color: #E8F0FE;\n",
              "      border: none;\n",
              "      border-radius: 50%;\n",
              "      cursor: pointer;\n",
              "      display: none;\n",
              "      fill: #1967D2;\n",
              "      height: 32px;\n",
              "      padding: 0 0 0 0;\n",
              "      width: 32px;\n",
              "    }\n",
              "\n",
              "    .colab-df-convert:hover {\n",
              "      background-color: #E2EBFA;\n",
              "      box-shadow: 0px 1px 2px rgba(60, 64, 67, 0.3), 0px 1px 3px 1px rgba(60, 64, 67, 0.15);\n",
              "      fill: #174EA6;\n",
              "    }\n",
              "\n",
              "    [theme=dark] .colab-df-convert {\n",
              "      background-color: #3B4455;\n",
              "      fill: #D2E3FC;\n",
              "    }\n",
              "\n",
              "    [theme=dark] .colab-df-convert:hover {\n",
              "      background-color: #434B5C;\n",
              "      box-shadow: 0px 1px 3px 1px rgba(0, 0, 0, 0.15);\n",
              "      filter: drop-shadow(0px 1px 2px rgba(0, 0, 0, 0.3));\n",
              "      fill: #FFFFFF;\n",
              "    }\n",
              "  </style>\n",
              "\n",
              "      <script>\n",
              "        const buttonEl =\n",
              "          document.querySelector('#df-9b754d0b-50d4-48ea-b0ad-8794e197e7c5 button.colab-df-convert');\n",
              "        buttonEl.style.display =\n",
              "          google.colab.kernel.accessAllowed ? 'block' : 'none';\n",
              "\n",
              "        async function convertToInteractive(key) {\n",
              "          const element = document.querySelector('#df-9b754d0b-50d4-48ea-b0ad-8794e197e7c5');\n",
              "          const dataTable =\n",
              "            await google.colab.kernel.invokeFunction('convertToInteractive',\n",
              "                                                     [key], {});\n",
              "          if (!dataTable) return;\n",
              "\n",
              "          const docLinkHtml = 'Like what you see? Visit the ' +\n",
              "            '<a target=\"_blank\" href=https://colab.research.google.com/notebooks/data_table.ipynb>data table notebook</a>'\n",
              "            + ' to learn more about interactive tables.';\n",
              "          element.innerHTML = '';\n",
              "          dataTable['output_type'] = 'display_data';\n",
              "          await google.colab.output.renderOutput(dataTable, element);\n",
              "          const docLink = document.createElement('div');\n",
              "          docLink.innerHTML = docLinkHtml;\n",
              "          element.appendChild(docLink);\n",
              "        }\n",
              "      </script>\n",
              "    </div>\n",
              "  </div>\n"
            ]
          },
          "metadata": {},
          "execution_count": 155
        }
      ],
      "source": [
        "tot_df = pd.read_csv(\"/Datasets/total-renewable.csv\")\n",
        "tot_df.head()"
      ]
    },
    {
      "cell_type": "code",
      "execution_count": null,
      "metadata": {
        "colab": {
          "base_uri": "https://localhost:8080/",
          "height": 300
        },
        "id": "q8AaIuk5gKF1",
        "outputId": "5556e7cb-cce2-4467-9f8c-b936c08d5616"
      },
      "outputs": [
        {
          "output_type": "execute_result",
          "data": {
            "text/plain": [
              "                y\n",
              "count  156.000000\n",
              "mean   187.860513\n",
              "std     21.576694\n",
              "min    148.396000\n",
              "25%    165.342250\n",
              "50%    196.388000\n",
              "75%    206.672750\n",
              "max    234.113000"
            ],
            "text/html": [
              "\n",
              "\n",
              "  <div id=\"df-940bb2bf-18bc-4132-b2fd-37702630419d\">\n",
              "    <div class=\"colab-df-container\">\n",
              "      <div>\n",
              "<style scoped>\n",
              "    .dataframe tbody tr th:only-of-type {\n",
              "        vertical-align: middle;\n",
              "    }\n",
              "\n",
              "    .dataframe tbody tr th {\n",
              "        vertical-align: top;\n",
              "    }\n",
              "\n",
              "    .dataframe thead th {\n",
              "        text-align: right;\n",
              "    }\n",
              "</style>\n",
              "<table border=\"1\" class=\"dataframe\">\n",
              "  <thead>\n",
              "    <tr style=\"text-align: right;\">\n",
              "      <th></th>\n",
              "      <th>y</th>\n",
              "    </tr>\n",
              "  </thead>\n",
              "  <tbody>\n",
              "    <tr>\n",
              "      <th>count</th>\n",
              "      <td>156.000000</td>\n",
              "    </tr>\n",
              "    <tr>\n",
              "      <th>mean</th>\n",
              "      <td>187.860513</td>\n",
              "    </tr>\n",
              "    <tr>\n",
              "      <th>std</th>\n",
              "      <td>21.576694</td>\n",
              "    </tr>\n",
              "    <tr>\n",
              "      <th>min</th>\n",
              "      <td>148.396000</td>\n",
              "    </tr>\n",
              "    <tr>\n",
              "      <th>25%</th>\n",
              "      <td>165.342250</td>\n",
              "    </tr>\n",
              "    <tr>\n",
              "      <th>50%</th>\n",
              "      <td>196.388000</td>\n",
              "    </tr>\n",
              "    <tr>\n",
              "      <th>75%</th>\n",
              "      <td>206.672750</td>\n",
              "    </tr>\n",
              "    <tr>\n",
              "      <th>max</th>\n",
              "      <td>234.113000</td>\n",
              "    </tr>\n",
              "  </tbody>\n",
              "</table>\n",
              "</div>\n",
              "      <button class=\"colab-df-convert\" onclick=\"convertToInteractive('df-940bb2bf-18bc-4132-b2fd-37702630419d')\"\n",
              "              title=\"Convert this dataframe to an interactive table.\"\n",
              "              style=\"display:none;\">\n",
              "\n",
              "  <svg xmlns=\"http://www.w3.org/2000/svg\" height=\"24px\"viewBox=\"0 0 24 24\"\n",
              "       width=\"24px\">\n",
              "    <path d=\"M0 0h24v24H0V0z\" fill=\"none\"/>\n",
              "    <path d=\"M18.56 5.44l.94 2.06.94-2.06 2.06-.94-2.06-.94-.94-2.06-.94 2.06-2.06.94zm-11 1L8.5 8.5l.94-2.06 2.06-.94-2.06-.94L8.5 2.5l-.94 2.06-2.06.94zm10 10l.94 2.06.94-2.06 2.06-.94-2.06-.94-.94-2.06-.94 2.06-2.06.94z\"/><path d=\"M17.41 7.96l-1.37-1.37c-.4-.4-.92-.59-1.43-.59-.52 0-1.04.2-1.43.59L10.3 9.45l-7.72 7.72c-.78.78-.78 2.05 0 2.83L4 21.41c.39.39.9.59 1.41.59.51 0 1.02-.2 1.41-.59l7.78-7.78 2.81-2.81c.8-.78.8-2.07 0-2.86zM5.41 20L4 18.59l7.72-7.72 1.47 1.35L5.41 20z\"/>\n",
              "  </svg>\n",
              "      </button>\n",
              "\n",
              "\n",
              "\n",
              "    <div id=\"df-582716bb-1afe-4e16-afbd-91a2852be435\">\n",
              "      <button class=\"colab-df-quickchart\" onclick=\"quickchart('df-582716bb-1afe-4e16-afbd-91a2852be435')\"\n",
              "              title=\"Suggest charts.\"\n",
              "              style=\"display:none;\">\n",
              "\n",
              "<svg xmlns=\"http://www.w3.org/2000/svg\" height=\"24px\"viewBox=\"0 0 24 24\"\n",
              "     width=\"24px\">\n",
              "    <g>\n",
              "        <path d=\"M19 3H5c-1.1 0-2 .9-2 2v14c0 1.1.9 2 2 2h14c1.1 0 2-.9 2-2V5c0-1.1-.9-2-2-2zM9 17H7v-7h2v7zm4 0h-2V7h2v10zm4 0h-2v-4h2v4z\"/>\n",
              "    </g>\n",
              "</svg>\n",
              "      </button>\n",
              "    </div>\n",
              "\n",
              "<style>\n",
              "  .colab-df-quickchart {\n",
              "    background-color: #E8F0FE;\n",
              "    border: none;\n",
              "    border-radius: 50%;\n",
              "    cursor: pointer;\n",
              "    display: none;\n",
              "    fill: #1967D2;\n",
              "    height: 32px;\n",
              "    padding: 0 0 0 0;\n",
              "    width: 32px;\n",
              "  }\n",
              "\n",
              "  .colab-df-quickchart:hover {\n",
              "    background-color: #E2EBFA;\n",
              "    box-shadow: 0px 1px 2px rgba(60, 64, 67, 0.3), 0px 1px 3px 1px rgba(60, 64, 67, 0.15);\n",
              "    fill: #174EA6;\n",
              "  }\n",
              "\n",
              "  [theme=dark] .colab-df-quickchart {\n",
              "    background-color: #3B4455;\n",
              "    fill: #D2E3FC;\n",
              "  }\n",
              "\n",
              "  [theme=dark] .colab-df-quickchart:hover {\n",
              "    background-color: #434B5C;\n",
              "    box-shadow: 0px 1px 3px 1px rgba(0, 0, 0, 0.15);\n",
              "    filter: drop-shadow(0px 1px 2px rgba(0, 0, 0, 0.3));\n",
              "    fill: #FFFFFF;\n",
              "  }\n",
              "</style>\n",
              "\n",
              "    <script>\n",
              "      async function quickchart(key) {\n",
              "        const containerElement = document.querySelector('#' + key);\n",
              "        const charts = await google.colab.kernel.invokeFunction(\n",
              "            'suggestCharts', [key], {});\n",
              "      }\n",
              "    </script>\n",
              "\n",
              "      <script>\n",
              "\n",
              "function displayQuickchartButton(domScope) {\n",
              "  let quickchartButtonEl =\n",
              "    domScope.querySelector('#df-582716bb-1afe-4e16-afbd-91a2852be435 button.colab-df-quickchart');\n",
              "  quickchartButtonEl.style.display =\n",
              "    google.colab.kernel.accessAllowed ? 'block' : 'none';\n",
              "}\n",
              "\n",
              "        displayQuickchartButton(document);\n",
              "      </script>\n",
              "      <style>\n",
              "    .colab-df-container {\n",
              "      display:flex;\n",
              "      flex-wrap:wrap;\n",
              "      gap: 12px;\n",
              "    }\n",
              "\n",
              "    .colab-df-convert {\n",
              "      background-color: #E8F0FE;\n",
              "      border: none;\n",
              "      border-radius: 50%;\n",
              "      cursor: pointer;\n",
              "      display: none;\n",
              "      fill: #1967D2;\n",
              "      height: 32px;\n",
              "      padding: 0 0 0 0;\n",
              "      width: 32px;\n",
              "    }\n",
              "\n",
              "    .colab-df-convert:hover {\n",
              "      background-color: #E2EBFA;\n",
              "      box-shadow: 0px 1px 2px rgba(60, 64, 67, 0.3), 0px 1px 3px 1px rgba(60, 64, 67, 0.15);\n",
              "      fill: #174EA6;\n",
              "    }\n",
              "\n",
              "    [theme=dark] .colab-df-convert {\n",
              "      background-color: #3B4455;\n",
              "      fill: #D2E3FC;\n",
              "    }\n",
              "\n",
              "    [theme=dark] .colab-df-convert:hover {\n",
              "      background-color: #434B5C;\n",
              "      box-shadow: 0px 1px 3px 1px rgba(0, 0, 0, 0.15);\n",
              "      filter: drop-shadow(0px 1px 2px rgba(0, 0, 0, 0.3));\n",
              "      fill: #FFFFFF;\n",
              "    }\n",
              "  </style>\n",
              "\n",
              "      <script>\n",
              "        const buttonEl =\n",
              "          document.querySelector('#df-940bb2bf-18bc-4132-b2fd-37702630419d button.colab-df-convert');\n",
              "        buttonEl.style.display =\n",
              "          google.colab.kernel.accessAllowed ? 'block' : 'none';\n",
              "\n",
              "        async function convertToInteractive(key) {\n",
              "          const element = document.querySelector('#df-940bb2bf-18bc-4132-b2fd-37702630419d');\n",
              "          const dataTable =\n",
              "            await google.colab.kernel.invokeFunction('convertToInteractive',\n",
              "                                                     [key], {});\n",
              "          if (!dataTable) return;\n",
              "\n",
              "          const docLinkHtml = 'Like what you see? Visit the ' +\n",
              "            '<a target=\"_blank\" href=https://colab.research.google.com/notebooks/data_table.ipynb>data table notebook</a>'\n",
              "            + ' to learn more about interactive tables.';\n",
              "          element.innerHTML = '';\n",
              "          dataTable['output_type'] = 'display_data';\n",
              "          await google.colab.output.renderOutput(dataTable, element);\n",
              "          const docLink = document.createElement('div');\n",
              "          docLink.innerHTML = docLinkHtml;\n",
              "          element.appendChild(docLink);\n",
              "        }\n",
              "      </script>\n",
              "    </div>\n",
              "  </div>\n"
            ]
          },
          "metadata": {},
          "execution_count": 156
        }
      ],
      "source": [
        "tot_df.describe()"
      ]
    },
    {
      "cell_type": "code",
      "execution_count": null,
      "metadata": {
        "colab": {
          "base_uri": "https://localhost:8080/"
        },
        "id": "qLjQPhYAgPeP",
        "outputId": "4e461644-1205-43c0-e9a8-ae41a244c8f8"
      },
      "outputs": [
        {
          "output_type": "stream",
          "name": "stdout",
          "text": [
            "<class 'pandas.core.frame.DataFrame'>\n",
            "RangeIndex: 156 entries, 0 to 155\n",
            "Data columns (total 1 columns):\n",
            " #   Column  Non-Null Count  Dtype  \n",
            "---  ------  --------------  -----  \n",
            " 0   y       156 non-null    float64\n",
            "dtypes: float64(1)\n",
            "memory usage: 1.3 KB\n"
          ]
        }
      ],
      "source": [
        "tot_df.info()"
      ]
    },
    {
      "cell_type": "code",
      "execution_count": null,
      "metadata": {
        "id": "waewaaRwgcw7",
        "colab": {
          "base_uri": "https://localhost:8080/",
          "height": 448
        },
        "outputId": "ce38772d-c684-4a66-90a1-9714c71f502f"
      },
      "outputs": [
        {
          "output_type": "execute_result",
          "data": {
            "text/plain": [
              "<Axes: >"
            ]
          },
          "metadata": {},
          "execution_count": 158
        },
        {
          "output_type": "display_data",
          "data": {
            "text/plain": [
              "<Figure size 640x480 with 1 Axes>"
            ],
            "image/png": "[encoded data removed]"
          },
          "metadata": {}
        }
      ],
      "source": [
        "tot_df.plot()"
      ]
    },
    {
      "cell_type": "code",
      "execution_count": null,
      "metadata": {
        "id": "DWku-aObDFUm"
      },
      "outputs": [],
      "source": [
        "tot_ds = pd.date_range(start=\"2005-01-01\", periods = len(tot_df), freq=\"MS\")\n",
        "tot_df[\"ds\"]=tot_ds"
      ]
    },
    {
      "cell_type": "code",
      "execution_count": null,
      "metadata": {
        "id": "-PbNo7qXCMCs"
      },
      "outputs": [],
      "source": [
        "tot_train_set = tot_df[:-12]\n",
        "tot_test_set = tot_df[-12:]"
      ]
    },
    {
      "cell_type": "code",
      "source": [],
      "metadata": {
        "id": "2vu_KmzWvlNK"
      },
      "execution_count": null,
      "outputs": []
    },
    {
      "cell_type": "markdown",
      "metadata": {
        "id": "504Pcz2KCayg"
      },
      "source": [
        "## 3.1 Prophet"
      ]
    },
    {
      "cell_type": "code",
      "execution_count": null,
      "metadata": {
        "id": "qS7ILnEyCcVo"
      },
      "outputs": [],
      "source": [
        "tot_prophet = Prophet(seasonality_mode=\"multiplicative\")\n",
        "tot_prophet.fit(tot_train_set)\n",
        "tot_future = tot_prophet.make_future_dataframe(len(tot_test_set), freq=\"MS\")\n",
        "tot_forecast = tot_prophet.predict(tot_future)"
      ]
    },
    {
      "cell_type": "markdown",
      "metadata": {
        "id": "7P-R9eXzFjab"
      },
      "source": [
        "## 3.2 Prophet-EMD"
      ]
    },
    {
      "cell_type": "markdown",
      "metadata": {
        "id": "gWSvz39vFk9K"
      },
      "source": [
        "### decomposition"
      ]
    },
    {
      "cell_type": "code",
      "execution_count": null,
      "metadata": {
        "id": "_sbkz8AqEnSh"
      },
      "outputs": [],
      "source": [
        "emd = EMD(spline_kind = 'akima')\n",
        "tot_imfs = emd.emd(tot_train_set.y.values)"
      ]
    },
    {
      "cell_type": "code",
      "execution_count": null,
      "metadata": {
        "colab": {
          "base_uri": "https://localhost:8080/"
        },
        "id": "tZFnYSNRFvbn",
        "outputId": "05f9a201-4b35-4a6a-f43c-8c337dc42e25"
      },
      "outputs": [
        {
          "data": {
            "text/plain": [
              "(5, 144)"
            ]
          },
          "execution_count": 55,
          "metadata": {},
          "output_type": "execute_result"
        }
      ],
      "source": [
        "tot_imfs.shape"
      ]
    },
    {
      "cell_type": "markdown",
      "metadata": {
        "id": "sOJAcDkxG-gh"
      },
      "source": [
        "### +Prophet"
      ]
    },
    {
      "cell_type": "code",
      "execution_count": null,
      "metadata": {
        "id": "hytVF1LlGxvw"
      },
      "outputs": [],
      "source": [
        "tot_forecast_temp=pd.DataFrame()\n",
        "tot_forecast_temp[\"ds\"] = tot_ds\n",
        "tot_forecast_temp[\"yhat\"] = 0\n",
        "\n",
        "for imf in tot_imfs:\n",
        "  temp = pd.DataFrame(imf)\n",
        "  temp['ds'] = tot_ds[:len(tot_train_set)]\n",
        "  temp.columns = [ 'y', 'ds']\n",
        "  model = Prophet(seasonality_mode=\"additive\")\n",
        "  model.fit(temp)\n",
        "  future = model.make_future_dataframe(12, freq=\"MS\")\n",
        "  tot_forecast = model.predict(future)\n",
        "  tot_forecast_temp[\"yhat\"] += tot_forecast['yhat']"
      ]
    },
    {
      "cell_type": "markdown",
      "metadata": {
        "id": "7F663x_iLEVD"
      },
      "source": [
        "## 3.3 Prophet-CEEMDAN"
      ]
    },
    {
      "cell_type": "markdown",
      "metadata": {
        "id": "knZBxFYFLIGQ"
      },
      "source": [
        "### decomposition"
      ]
    },
    {
      "cell_type": "code",
      "execution_count": null,
      "metadata": {
        "id": "2pgtSy6wLHcQ"
      },
      "outputs": [],
      "source": [
        "cmd = CEEMDAN(spline_kind = 'akima')\n",
        "tot_cmd_imfs = cmd.ceemdan(tot_train_set.y.values)"
      ]
    },
    {
      "cell_type": "code",
      "execution_count": null,
      "metadata": {
        "colab": {
          "base_uri": "https://localhost:8080/"
        },
        "id": "n6bhUIQSLhSU",
        "outputId": "b41b4f51-c645-4242-efb8-d5ba67f91518"
      },
      "outputs": [
        {
          "data": {
            "text/plain": [
              "(6, 144)"
            ]
          },
          "execution_count": 84,
          "metadata": {},
          "output_type": "execute_result"
        }
      ],
      "source": [
        "tot_cmd_imfs.shape"
      ]
    },
    {
      "cell_type": "markdown",
      "metadata": {
        "id": "RfMBJI9eLLQi"
      },
      "source": [
        "### +Prophet"
      ]
    },
    {
      "cell_type": "code",
      "execution_count": null,
      "metadata": {
        "id": "GaYG2JyVLNTA"
      },
      "outputs": [],
      "source": [
        "tot_cmd_forecast_temp=pd.DataFrame()\n",
        "tot_cmd_forecast_temp[\"ds\"] = tot_ds\n",
        "tot_cmd_forecast_temp[\"yhat\"] = 0\n",
        "\n",
        "for imf in tot_cmd_imfs:\n",
        "  temp = pd.DataFrame(imf)\n",
        "  temp['ds'] = tot_ds[:len(tot_train_set)]\n",
        "  temp.columns = [ 'y', 'ds']\n",
        "  model = Prophet(seasonality_mode=\"multiplicative\")\n",
        "  model.fit(temp)\n",
        "  future = model.make_future_dataframe(12, freq=\"MS\")\n",
        "  tot_cmd_forecast = model.predict(future)\n",
        "  tot_cmd_forecast_temp[\"yhat\"] += tot_cmd_forecast['yhat']"
      ]
    },
    {
      "cell_type": "markdown",
      "source": [
        "## 3.4 Prophet-ICEEMDAN"
      ],
      "metadata": {
        "id": "hZnvNDByQeXB"
      }
    },
    {
      "cell_type": "markdown",
      "source": [
        "### import imfs"
      ],
      "metadata": {
        "id": "KcYdu_EaQh5t"
      }
    },
    {
      "cell_type": "code",
      "source": [
        "total_renew_ic_imfs = pd.read_csv(\"/ICEEMDAN-IMFS/IMF_total_renewable.csv\", header = None)\n",
        "total_renew_ic_imfs = total_renew_ic_imfs.to_numpy()\n",
        "total_renew_ic_imfs.shape"
      ],
      "metadata": {
        "colab": {
          "base_uri": "https://localhost:8080/"
        },
        "id": "nSl8Zh7EQdJg",
        "outputId": "9a317c28-d3b8-435e-f020-abebcf967651"
      },
      "execution_count": null,
      "outputs": [
        {
          "output_type": "execute_result",
          "data": {
            "text/plain": [
              "(6, 144)"
            ]
          },
          "metadata": {},
          "execution_count": 245
        }
      ]
    },
    {
      "cell_type": "markdown",
      "source": [
        "### +Prophet"
      ],
      "metadata": {
        "id": "Xe3jAJ4gQ-o3"
      }
    },
    {
      "cell_type": "code",
      "source": [
        "total_renew_ic_temp = pd.DataFrame()\n",
        "total_renew_ic_temp[\"ds\"] = tot_ds\n",
        "total_renew_ic_temp[\"yhat\"] = 0\n",
        "\n",
        "for imf in total_renew_ic_imfs:\n",
        "  temp = pd.DataFrame(imf)\n",
        "  temp['ds'] = tot_ds[:len(tot_train_set)]\n",
        "  temp.columns = [ 'y', 'ds']\n",
        "  model = Prophet(seasonality_mode=\"multiplicative\")\n",
        "  model.fit(temp)\n",
        "  future = model.make_future_dataframe(12, freq=\"MS\")\n",
        "  tot_ic_forecast = model.predict(future)\n",
        "  total_renew_ic_temp[\"yhat\"] += tot_ic_forecast['yhat']\n"
      ],
      "metadata": {
        "id": "iocOTMoTRBKD"
      },
      "execution_count": null,
      "outputs": []
    },
    {
      "cell_type": "markdown",
      "metadata": {
        "id": "awVyA0Go0taS"
      },
      "source": [
        "## 3.5 SARIMAX"
      ]
    },
    {
      "cell_type": "code",
      "execution_count": null,
      "metadata": {
        "id": "tHYblp1e0vsR"
      },
      "outputs": [],
      "source": [
        "temp = tot_train_set.copy()\n",
        "temp.index = tot_train_set.ds\n",
        "temp.drop(\"ds\", axis=1,inplace=True)\n",
        "temp"
      ]
    },
    {
      "cell_type": "code",
      "execution_count": null,
      "metadata": {
        "id": "O11P2BuS1CW2"
      },
      "outputs": [],
      "source": [
        "tot_model_arima = auto_arima(temp , m=12, stationary=True)\n",
        "tot_forecast_arima = tot_model_arima.predict(len(tot_test_set))"
      ]
    },
    {
      "cell_type": "code",
      "execution_count": null,
      "metadata": {
        "id": "Y_YCMMcu1GHs"
      },
      "outputs": [],
      "source": [
        "tot_model_arima.summary()"
      ]
    },
    {
      "cell_type": "markdown",
      "source": [
        "# plots"
      ],
      "metadata": {
        "id": "j4VpjBJZKz2G"
      }
    },
    {
      "cell_type": "markdown",
      "source": [
        "## test set chart"
      ],
      "metadata": {
        "id": "Qyj7BQWIM9eh"
      }
    },
    {
      "cell_type": "markdown",
      "source": [
        "#### data"
      ],
      "metadata": {
        "id": "cpsOBMTCcVaz"
      }
    },
    {
      "cell_type": "code",
      "source": [
        "tot_test = 12\n",
        "tot_df = pd.read_csv(\"/Datasets/total-renewable.csv\")\n",
        "tot_ds = pd.date_range(start=\"2005-01-01\", periods = len(tot_df), freq=\"MS\")\n",
        "tot_df[\"ds\"]=tot_ds"
      ],
      "metadata": {
        "id": "bTG0IJ2cfxv6"
      },
      "execution_count": null,
      "outputs": []
    },
    {
      "cell_type": "code",
      "source": [
        "tot_df_p = pd.read_excel(\"/Forecasts/total-renewable/tot_prophet.xlsx\")\n",
        "tot_df_p = tot_df_p[['ds', 'yhat']]"
      ],
      "metadata": {
        "id": "rcRPCJlAG25G"
      },
      "execution_count": null,
      "outputs": []
    },
    {
      "cell_type": "code",
      "source": [
        "tot_df_ep = pd.read_excel(\"/Forecasts/total-renewable/tot_prophet_EMD.xlsx\")\n",
        "tot_df_ep = tot_df_ep[['ds', 'yhat']]"
      ],
      "metadata": {
        "id": "QvUyECUAG25V"
      },
      "execution_count": null,
      "outputs": []
    },
    {
      "cell_type": "code",
      "source": [
        "tot_df_cp = pd.read_excel(\"/Forecasts/total-renewable/tot_prophet_ceemdan.xlsx\")\n",
        "tot_df_cp = tot_df_cp[['ds', 'yhat']]"
      ],
      "metadata": {
        "id": "9tyxpCCWG25V"
      },
      "execution_count": null,
      "outputs": []
    },
    {
      "cell_type": "code",
      "source": [
        "tot_df_icp = pd.read_excel(\"/Forecasts/total-renewable/tot_prophet_ICEEMDAN.xlsx\")\n",
        "tot_df_icp = tot_df_icp[['ds', 'yhat']]"
      ],
      "metadata": {
        "id": "goMrWWv25D3u"
      },
      "execution_count": null,
      "outputs": []
    },
    {
      "cell_type": "code",
      "source": [
        "tot_df_s = pd.read_excel(\"/Forecasts/total-renewable/tot_sarimax.xlsx\")\n",
        "tot_df_s = tot_df_s[0]\n",
        "tot_df_s.columns=['yhat']"
      ],
      "metadata": {
        "id": "QUgzS0hGG25V"
      },
      "execution_count": null,
      "outputs": []
    },
    {
      "cell_type": "code",
      "source": [
        "plotting_test(tot_df, tot_df_p, tot_df_ep, tot_df_cp, tot_df_icp, tot_df_s, \"Total energy consumption\", \"Month\", \"total_test_func.jpg\",12)"
      ],
      "metadata": {
        "id": "1UASOqLrG25W"
      },
      "execution_count": null,
      "outputs": []
    },
    {
      "cell_type": "markdown",
      "source": [
        "## bar plot"
      ],
      "metadata": {
        "id": "j78m12wc0DX9"
      }
    },
    {
      "cell_type": "code",
      "execution_count": null,
      "metadata": {
        "id": "y_ARtm25oFwn"
      },
      "outputs": [],
      "source": [
        "plt.rcParams['font.family'] = 'serif'\n",
        "plt.rcParams['font.serif'] += ['Times Roman']\n",
        "width = 0.1\n",
        "\n",
        "def bar_plotter(values, title, name, tick):\n",
        "  xticks = ['MAPE']\n",
        "  multiplier = 0\n",
        "  x = np.arange(len(xticks))\n",
        "\n",
        "  fig, ax = plt.subplots(layout=\"constrained\", figsize=(10,6))\n",
        "\n",
        "  for i,j in values.items():\n",
        "    offset = width * multiplier\n",
        "    plt.rcParams['font.family'] = 'serif'\n",
        "    plt.rcParams['font.serif'] += ['Times Roman']\n",
        "    rects = ax.bar(x + offset, j, width, label = i)\n",
        "    ax.bar_label(rects, padding=4, fontweight=\"bold\", fontsize=13)\n",
        "    multiplier+=1\n",
        "\n",
        "  plt.legend(fontsize=13, loc=\"upper left\")\n",
        "\n",
        "  ax.set_xticks(x+tick, xticks, fontsize=14, fontweight=\"bold\")\n",
        "  plt.yticks(fontweight='bold', fontsize=14)\n",
        "\n",
        "  ceil = round(max(list(values.values())) + 0.2*(max(list(values.values()))))\n",
        "\n",
        "  plt.ylim(0, ceil)\n",
        "\n",
        "  plt.grid(axis='y')\n",
        "  ax.set_axisbelow(True)\n",
        "  plt.margins(2*(1-len(values)/10), 0)\n",
        "  plt.savefig(f\"{name}.jpg\", dpi=1200)"
      ]
    },
    {
      "cell_type": "markdown",
      "source": [
        "round\n"
      ],
      "metadata": {
        "id": "AJkvO7UOnYMw"
      }
    },
    {
      "cell_type": "code",
      "source": [
        "def rounder(dictionary):\n",
        "  for i,j in dictionary.items():\n",
        "    dictionary[i] = round(j, 2)\n",
        "  return(dictionary)"
      ],
      "metadata": {
        "id": "Opp-rN8KnXmL"
      },
      "execution_count": null,
      "outputs": []
    },
    {
      "cell_type": "code",
      "execution_count": null,
      "metadata": {
        "colab": {
          "base_uri": "https://localhost:8080/"
        },
        "id": "aOUu-aAtuN64",
        "outputId": "8d528c2f-4b31-44ff-f40e-65cc699cf0e7"
      },
      "outputs": [
        {
          "output_type": "display_data",
          "data": {
            "text/plain": [
              "<Figure size 1000x600 with 1 Axes>"
            ],
            "image/png": "[encoded data removed]"
          },
          "metadata": {}
        }
      ],
      "source": [
        "tot_values = {\n",
        "    # method : (MAPE)\n",
        "    \"Prophet\":(1.994),\n",
        "    \"Prophet-EMD\": (1.992),\n",
        "    \"Prophet-CEEMDAN\":(1.718),\n",
        "    \"Prophet-ICEEMDAN\":(1.37),\n",
        "    \"SARIMA\":(4.332),\n",
        "    \"XGBoost-ATT\": (1.96)\n",
        "}\n",
        "\n",
        "bar_plotter(rounder(tot_values), \"Total Renewable energy\", \"tot_comparison_plot\", 0.25)"
      ]
    }
  ]
}