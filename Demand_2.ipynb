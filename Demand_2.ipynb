{
  "nbformat": 4,
  "nbformat_minor": 0,
  "metadata": {
    "colab": {
      "provenance": [],
      "collapsed_sections": [
        "3yTlTszKd5om",
        "u7EnZuLJd_JE",
        "PODE0G6GdRdY",
        "GMWQTUVYeF1-",
        "dhkRNbXSeH8K",
        "fJQ6r3fTeH8S",
        "2Gj3l8mkeH8V",
        "XZ2KRNgoeH8b",
        "STHnVvqMeH8c",
        "Es27KTdnwkW7",
        "FVPhuZQvwkW9",
        "WWLiaTWReH8Q",
        "9pHLidiaJb3D",
        "03KvTSIvbNKx",
        "uWEvfOpHbK-P",
        "zOEdbK3vnAy9"
      ]
    },
    "kernelspec": {
      "name": "python3",
      "display_name": "Python 3"
    },
    "language_info": {
      "name": "python"
    }
  },
  "cells": [
    {
      "cell_type": "markdown",
      "metadata": {
        "id": "3yTlTszKd5om"
      },
      "source": [
        "#### dependencies"
      ]
    },
    {
      "cell_type": "code",
      "execution_count": null,
      "metadata": {
        "id": "vUDSrFZWROGP"
      },
      "outputs": [],
      "source": [
        "!pip install EMD-signal\n",
        "!pip install prophet\n",
        "!pip install xlrd ==2.0.1\n",
        "!pip install pmdarima"
      ]
    },
    {
      "cell_type": "code",
      "execution_count": null,
      "metadata": {
        "id": "UJgLmieQqXdo"
      },
      "outputs": [],
      "source": [
        "# !pip freeze > requirements.txt\n",
        "# !pip uninstall -r requirements.txt -y"
      ]
    },
    {
      "cell_type": "markdown",
      "metadata": {
        "id": "u7EnZuLJd_JE"
      },
      "source": [
        "#### imports"
      ]
    },
    {
      "cell_type": "code",
      "execution_count": null,
      "metadata": {
        "id": "cFWfRe3pT-gR"
      },
      "outputs": [],
      "source": [
        "import pandas as pd\n",
        "import numpy as np\n",
        "import matplotlib.pyplot as plt\n",
        "from sklearn.metrics import mean_absolute_percentage_error , mean_squared_error, mean_absolute_error"
      ]
    },
    {
      "cell_type": "code",
      "execution_count": null,
      "metadata": {
        "id": "9UVSwc5G4aly"
      },
      "outputs": [],
      "source": [
        "from PyEMD import EMD\n",
        "from PyEMD import CEEMDAN\n",
        "from prophet import Prophet\n",
        "from pmdarima import auto_arima"
      ]
    },
    {
      "cell_type": "markdown",
      "metadata": {
        "id": "PODE0G6GdRdY"
      },
      "source": [
        "# **5.Demand 2**"
      ]
    },
    {
      "cell_type": "markdown",
      "metadata": {
        "id": "GMWQTUVYeF1-"
      },
      "source": [
        "## 5.0 Data"
      ]
    },
    {
      "cell_type": "code",
      "execution_count": null,
      "metadata": {
        "id": "gYSxoM5Vdx2Q"
      },
      "outputs": [],
      "source": [
        "path =\"/Datasets/nilperMonthly96_new.csv\"\n",
        "demand2_df = pd.read_csv(path)[:120]\n",
        "demand2_ds = pd.date_range(start=\"2005-01-01\", periods = len(demand2_df), freq=\"MS\")\n",
        "demand2_df[\"ds\"] = demand2_ds"
      ]
    },
    {
      "cell_type": "code",
      "execution_count": null,
      "metadata": {
        "id": "Qs7MSPuxdx2R"
      },
      "outputs": [],
      "source": [
        "demand2_train_set = demand2_df[:108]\n",
        "demand2_test_set = demand2_df[108:]"
      ]
    },
    {
      "cell_type": "code",
      "execution_count": null,
      "metadata": {
        "id": "S50GWF-peH8M"
      },
      "outputs": [],
      "source": [
        "demand2_df.head()"
      ]
    },
    {
      "cell_type": "markdown",
      "metadata": {
        "id": "dhkRNbXSeH8K"
      },
      "source": [
        "## 5.1 Prophet"
      ]
    },
    {
      "cell_type": "code",
      "execution_count": null,
      "metadata": {
        "id": "e8waN3-yeH8N"
      },
      "outputs": [],
      "source": [
        "dmn2_prophet = Prophet(seasonality_mode=\"additive\")\n",
        "dmn2_prophet.fit(dmn2_train_set)\n",
        "dmn2_future = dmn2_prophet.make_future_dataframe(12, freq=\"MS\")\n",
        "dmn2_forecast = dmn2_prophet.predict(dmn2_future)\n",
        "# dmn2_forecast.tail()"
      ]
    },
    {
      "cell_type": "markdown",
      "metadata": {
        "id": "TVc1zWuYeH8S"
      },
      "source": [
        "## 5.2 Prophet-EMD"
      ]
    },
    {
      "cell_type": "markdown",
      "metadata": {
        "id": "fJQ6r3fTeH8S"
      },
      "source": [
        "### decompose"
      ]
    },
    {
      "cell_type": "code",
      "execution_count": null,
      "metadata": {
        "id": "KkQwJMiGeH8T"
      },
      "outputs": [],
      "source": [
        "emd = EMD()"
      ]
    },
    {
      "cell_type": "code",
      "execution_count": null,
      "metadata": {
        "colab": {
          "base_uri": "https://localhost:8080/"
        },
        "id": "wglpY7bneH8T",
        "outputId": "3c5c5211-6a61-4bad-dd78-b1df2cd05f6d"
      },
      "outputs": [
        {
          "data": {
            "text/plain": [
              "(6, 108)"
            ]
          },
          "execution_count": 69,
          "metadata": {},
          "output_type": "execute_result"
        }
      ],
      "source": [
        "dmn2_imfs = emd.emd(dmn2_train_set.y.values)\n",
        "dmn2_imfs.shape"
      ]
    },
    {
      "cell_type": "markdown",
      "metadata": {
        "id": "2Gj3l8mkeH8V"
      },
      "source": [
        "### + Prophet"
      ]
    },
    {
      "cell_type": "code",
      "execution_count": null,
      "metadata": {
        "id": "_jAxVKReeH8W"
      },
      "outputs": [],
      "source": [
        "dmn2_forecast_temp=pd.DataFrame()\n",
        "dmn2_forecast_temp[\"ds\"] = dmn2_ds\n",
        "dmn2_forecast_temp[\"yhat\"] = 0\n",
        "\n",
        "for imf in dmn2_imfs:\n",
        "  temp = pd.DataFrame(imf)\n",
        "  temp['ds'] = dmn2_ds[:108]\n",
        "  temp.columns = [ 'y', 'ds']\n",
        "  model = Prophet(seasonality_mode=\"additive\")\n",
        "  model.fit(temp[:108])\n",
        "  future = model.make_future_dataframe(12, freq=\"MS\")\n",
        "  dmn2_forecast = model.predict(future)\n",
        "  dmn2_forecast_temp[\"yhat\"] += dmn2_forecast['yhat']"
      ]
    },
    {
      "cell_type": "markdown",
      "metadata": {
        "id": "dbRanpbZeH8b"
      },
      "source": [
        "## 5.3 Prophet-CEEMDAN"
      ]
    },
    {
      "cell_type": "markdown",
      "metadata": {
        "id": "XZ2KRNgoeH8b"
      },
      "source": [
        "### decomposition"
      ]
    },
    {
      "cell_type": "code",
      "execution_count": null,
      "metadata": {
        "id": "uZRg8hYreH8b"
      },
      "outputs": [],
      "source": [
        "ceemdan = CEEMDAN(spline_kind = 'akima')\n",
        "dmn2_c_imfs = ceemdan.ceemdan(dmn2_train_set.y.values)"
      ]
    },
    {
      "cell_type": "code",
      "execution_count": null,
      "metadata": {
        "colab": {
          "base_uri": "https://localhost:8080/"
        },
        "id": "d1jKxoY8eH8c",
        "outputId": "3648b14f-32d7-4368-9bb6-1683d5829ae7"
      },
      "outputs": [
        {
          "data": {
            "text/plain": [
              "(6, 108)"
            ]
          },
          "execution_count": 105,
          "metadata": {},
          "output_type": "execute_result"
        }
      ],
      "source": [
        "dmn2_c_imfs.shape"
      ]
    },
    {
      "cell_type": "markdown",
      "metadata": {
        "id": "STHnVvqMeH8c"
      },
      "source": [
        "### + prophet"
      ]
    },
    {
      "cell_type": "code",
      "execution_count": null,
      "metadata": {
        "id": "MMtQ8E1reH8c"
      },
      "outputs": [],
      "source": [
        "dmn2_forecast_temp_ce=pd.DataFrame()\n",
        "dmn2_forecast_temp_ce[\"ds\"] = dmn2_ds\n",
        "dmn2_forecast_temp_ce[\"yhat\"] = 0\n",
        "\n",
        "for imf in dmn2_c_imfs:\n",
        "  temp = pd.DataFrame(imf)\n",
        "  temp['ds'] = dmn2_ds[:108]\n",
        "  temp.columns = [ 'y', 'ds']\n",
        "  model = Prophet(seasonality_mode=\"additive\")\n",
        "  model.fit(temp[:108])\n",
        "  future = model.make_future_dataframe(12, freq=\"MS\")\n",
        "  dmn2_c_forecast = model.predict(future)\n",
        "\n",
        "  dmn2_forecast_temp_ce[\"yhat\"] += dmn2_c_forecast['yhat']"
      ]
    },
    {
      "cell_type": "markdown",
      "source": [
        "## 5.4 Prophet-ICEEMDAN"
      ],
      "metadata": {
        "id": "u-sYzfuSwkW7"
      }
    },
    {
      "cell_type": "markdown",
      "source": [
        "### import imfs"
      ],
      "metadata": {
        "id": "Es27KTdnwkW7"
      }
    },
    {
      "cell_type": "code",
      "source": [
        "demand2_ic_imfs = pd.read_csv(\"/ICEEMDAN-IMFS/IMF_demand2.csv\", header=None)\n",
        "demand2_ic_imfs.head()"
      ],
      "metadata": {
        "id": "5_zRcPjkwkW7"
      },
      "execution_count": null,
      "outputs": []
    },
    {
      "cell_type": "code",
      "source": [
        "demand2_ic_imfs.shape"
      ],
      "metadata": {
        "colab": {
          "base_uri": "https://localhost:8080/"
        },
        "outputId": "46339403-cf00-40fd-b0b6-35b5c005f9fc",
        "id": "Oa0i7LQTwkW8"
      },
      "execution_count": null,
      "outputs": [
        {
          "output_type": "execute_result",
          "data": {
            "text/plain": [
              "(6, 108)"
            ]
          },
          "metadata": {},
          "execution_count": 87
        }
      ]
    },
    {
      "cell_type": "code",
      "source": [
        "demand2_ic_imfs=demand2_ic_imfs.to_numpy()"
      ],
      "metadata": {
        "id": "tD_rVn7twkW8"
      },
      "execution_count": null,
      "outputs": []
    },
    {
      "cell_type": "markdown",
      "metadata": {
        "id": "FVPhuZQvwkW9"
      },
      "source": [
        "### + prophet"
      ]
    },
    {
      "cell_type": "code",
      "execution_count": null,
      "metadata": {
        "id": "kWex5lN-wkW9"
      },
      "outputs": [],
      "source": [
        "demand2_forecast_temp_ice=pd.DataFrame()\n",
        "demand2_forecast_temp_ice[\"ds\"] = demand_ds[:120]\n",
        "demand2_forecast_temp_ice[\"yhat\"] = 0\n",
        "\n",
        "for imf in demand2_ic_imfs:\n",
        "  temp = pd.DataFrame(imf)\n",
        "  temp['ds'] = demand2_ds[:108]\n",
        "  temp.columns = [ 'y', 'ds']\n",
        "  model = Prophet(seasonality_mode=\"additive\")\n",
        "  model.fit(temp[:108])\n",
        "  future = model.make_future_dataframe(12, freq=\"MS\")\n",
        "  demand2_forecast = model.predict(future)\n",
        "\n",
        "  demand2_forecast_temp_ice[\"yhat\"] += demand2_forecast['yhat']"
      ]
    },
    {
      "cell_type": "markdown",
      "metadata": {
        "id": "WWLiaTWReH8Q"
      },
      "source": [
        "##5.5  SARIMAX"
      ]
    },
    {
      "cell_type": "code",
      "execution_count": null,
      "metadata": {
        "colab": {
          "base_uri": "https://localhost:8080/",
          "height": 424
        },
        "id": "3E-3pr3LeH8Q",
        "outputId": "443978f4-43ac-4254-d835-aa78e7d6f087"
      },
      "outputs": [
        {
          "data": {
            "text/html": [
              "\n",
              "  <div id=\"df-90ca5a41-10e4-4ad6-b9e9-d36b9948bc95\">\n",
              "    <div class=\"colab-df-container\">\n",
              "      <div>\n",
              "<style scoped>\n",
              "    .dataframe tbody tr th:only-of-type {\n",
              "        vertical-align: middle;\n",
              "    }\n",
              "\n",
              "    .dataframe tbody tr th {\n",
              "        vertical-align: top;\n",
              "    }\n",
              "\n",
              "    .dataframe thead th {\n",
              "        text-align: right;\n",
              "    }\n",
              "</style>\n",
              "<table border=\"1\" class=\"dataframe\">\n",
              "  <thead>\n",
              "    <tr style=\"text-align: right;\">\n",
              "      <th></th>\n",
              "      <th>y</th>\n",
              "    </tr>\n",
              "  </thead>\n",
              "  <tbody>\n",
              "    <tr>\n",
              "      <th>2005-01-01</th>\n",
              "      <td>5999</td>\n",
              "    </tr>\n",
              "    <tr>\n",
              "      <th>2005-02-01</th>\n",
              "      <td>18538</td>\n",
              "    </tr>\n",
              "    <tr>\n",
              "      <th>2005-03-01</th>\n",
              "      <td>13516</td>\n",
              "    </tr>\n",
              "    <tr>\n",
              "      <th>2005-04-01</th>\n",
              "      <td>14928</td>\n",
              "    </tr>\n",
              "    <tr>\n",
              "      <th>2005-05-01</th>\n",
              "      <td>14337</td>\n",
              "    </tr>\n",
              "    <tr>\n",
              "      <th>...</th>\n",
              "      <td>...</td>\n",
              "    </tr>\n",
              "    <tr>\n",
              "      <th>2013-08-01</th>\n",
              "      <td>13803</td>\n",
              "    </tr>\n",
              "    <tr>\n",
              "      <th>2013-09-01</th>\n",
              "      <td>15493</td>\n",
              "    </tr>\n",
              "    <tr>\n",
              "      <th>2013-10-01</th>\n",
              "      <td>17894</td>\n",
              "    </tr>\n",
              "    <tr>\n",
              "      <th>2013-11-01</th>\n",
              "      <td>21313</td>\n",
              "    </tr>\n",
              "    <tr>\n",
              "      <th>2013-12-01</th>\n",
              "      <td>20618</td>\n",
              "    </tr>\n",
              "  </tbody>\n",
              "</table>\n",
              "<p>108 rows × 1 columns</p>\n",
              "</div>\n",
              "      <button class=\"colab-df-convert\" onclick=\"convertToInteractive('df-90ca5a41-10e4-4ad6-b9e9-d36b9948bc95')\"\n",
              "              title=\"Convert this dataframe to an interactive table.\"\n",
              "              style=\"display:none;\">\n",
              "        \n",
              "  <svg xmlns=\"http://www.w3.org/2000/svg\" height=\"24px\"viewBox=\"0 0 24 24\"\n",
              "       width=\"24px\">\n",
              "    <path d=\"M0 0h24v24H0V0z\" fill=\"none\"/>\n",
              "    <path d=\"M18.56 5.44l.94 2.06.94-2.06 2.06-.94-2.06-.94-.94-2.06-.94 2.06-2.06.94zm-11 1L8.5 8.5l.94-2.06 2.06-.94-2.06-.94L8.5 2.5l-.94 2.06-2.06.94zm10 10l.94 2.06.94-2.06 2.06-.94-2.06-.94-.94-2.06-.94 2.06-2.06.94z\"/><path d=\"M17.41 7.96l-1.37-1.37c-.4-.4-.92-.59-1.43-.59-.52 0-1.04.2-1.43.59L10.3 9.45l-7.72 7.72c-.78.78-.78 2.05 0 2.83L4 21.41c.39.39.9.59 1.41.59.51 0 1.02-.2 1.41-.59l7.78-7.78 2.81-2.81c.8-.78.8-2.07 0-2.86zM5.41 20L4 18.59l7.72-7.72 1.47 1.35L5.41 20z\"/>\n",
              "  </svg>\n",
              "      </button>\n",
              "      \n",
              "  <style>\n",
              "    .colab-df-container {\n",
              "      display:flex;\n",
              "      flex-wrap:wrap;\n",
              "      gap: 12px;\n",
              "    }\n",
              "\n",
              "    .colab-df-convert {\n",
              "      background-color: #E8F0FE;\n",
              "      border: none;\n",
              "      border-radius: 50%;\n",
              "      cursor: pointer;\n",
              "      display: none;\n",
              "      fill: #1967D2;\n",
              "      height: 32px;\n",
              "      padding: 0 0 0 0;\n",
              "      width: 32px;\n",
              "    }\n",
              "\n",
              "    .colab-df-convert:hover {\n",
              "      background-color: #E2EBFA;\n",
              "      box-shadow: 0px 1px 2px rgba(60, 64, 67, 0.3), 0px 1px 3px 1px rgba(60, 64, 67, 0.15);\n",
              "      fill: #174EA6;\n",
              "    }\n",
              "\n",
              "    [theme=dark] .colab-df-convert {\n",
              "      background-color: #3B4455;\n",
              "      fill: #D2E3FC;\n",
              "    }\n",
              "\n",
              "    [theme=dark] .colab-df-convert:hover {\n",
              "      background-color: #434B5C;\n",
              "      box-shadow: 0px 1px 3px 1px rgba(0, 0, 0, 0.15);\n",
              "      filter: drop-shadow(0px 1px 2px rgba(0, 0, 0, 0.3));\n",
              "      fill: #FFFFFF;\n",
              "    }\n",
              "  </style>\n",
              "\n",
              "      <script>\n",
              "        const buttonEl =\n",
              "          document.querySelector('#df-90ca5a41-10e4-4ad6-b9e9-d36b9948bc95 button.colab-df-convert');\n",
              "        buttonEl.style.display =\n",
              "          google.colab.kernel.accessAllowed ? 'block' : 'none';\n",
              "\n",
              "        async function convertToInteractive(key) {\n",
              "          const element = document.querySelector('#df-90ca5a41-10e4-4ad6-b9e9-d36b9948bc95');\n",
              "          const dataTable =\n",
              "            await google.colab.kernel.invokeFunction('convertToInteractive',\n",
              "                                                     [key], {});\n",
              "          if (!dataTable) return;\n",
              "\n",
              "          const docLinkHtml = 'Like what you see? Visit the ' +\n",
              "            '<a target=\"_blank\" href=https://colab.research.google.com/notebooks/data_table.ipynb>data table notebook</a>'\n",
              "            + ' to learn more about interactive tables.';\n",
              "          element.innerHTML = '';\n",
              "          dataTable['output_type'] = 'display_data';\n",
              "          await google.colab.output.renderOutput(dataTable, element);\n",
              "          const docLink = document.createElement('div');\n",
              "          docLink.innerHTML = docLinkHtml;\n",
              "          element.appendChild(docLink);\n",
              "        }\n",
              "      </script>\n",
              "    </div>\n",
              "  </div>\n",
              "  "
            ],
            "text/plain": [
              "                y\n",
              "2005-01-01   5999\n",
              "2005-02-01  18538\n",
              "2005-03-01  13516\n",
              "2005-04-01  14928\n",
              "2005-05-01  14337\n",
              "...           ...\n",
              "2013-08-01  13803\n",
              "2013-09-01  15493\n",
              "2013-10-01  17894\n",
              "2013-11-01  21313\n",
              "2013-12-01  20618\n",
              "\n",
              "[108 rows x 1 columns]"
            ]
          },
          "execution_count": 115,
          "metadata": {},
          "output_type": "execute_result"
        }
      ],
      "source": [
        "dmn2_temp = dmn2_train_set.copy()\n",
        "dmn2_temp.index=dmn2_ds[:108]\n",
        "dmn2_temp.drop('ds', axis=1,inplace=True)\n",
        "dmn2_temp"
      ]
    },
    {
      "cell_type": "code",
      "execution_count": null,
      "metadata": {
        "id": "S3EPnxN9eH8Q"
      },
      "outputs": [],
      "source": [
        "model= auto_arima(dmn2_temp, stationary=True, m=6) ## , m=12\n",
        "dmn2_s_forecast = model.predict(12)"
      ]
    },
    {
      "cell_type": "code",
      "execution_count": null,
      "metadata": {
        "colab": {
          "base_uri": "https://localhost:8080/",
          "height": 576
        },
        "id": "CgDq-nu_eH8R",
        "outputId": "9ea82a95-3385-4cff-c821-71cd2abe5050"
      },
      "outputs": [
        {
          "data": {
            "text/html": [
              "<table class=\"simpletable\">\n",
              "<caption>SARIMAX Results</caption>\n",
              "<tr>\n",
              "  <th>Dep. Variable:</th>                 <td>y</td>               <th>  No. Observations:  </th>    <td>108</td>   \n",
              "</tr>\n",
              "<tr>\n",
              "  <th>Model:</th>           <td>SARIMAX(1, 0, 2)x(2, 0, 2, 6)</td> <th>  Log Likelihood     </th> <td>-1035.574</td>\n",
              "</tr>\n",
              "<tr>\n",
              "  <th>Date:</th>                  <td>Tue, 18 Apr 2023</td>        <th>  AIC                </th> <td>2089.149</td> \n",
              "</tr>\n",
              "<tr>\n",
              "  <th>Time:</th>                      <td>15:17:04</td>            <th>  BIC                </th> <td>2113.288</td> \n",
              "</tr>\n",
              "<tr>\n",
              "  <th>Sample:</th>                   <td>01-01-2005</td>           <th>  HQIC               </th> <td>2098.937</td> \n",
              "</tr>\n",
              "<tr>\n",
              "  <th></th>                         <td>- 12-01-2013</td>          <th>                     </th>     <td> </td>    \n",
              "</tr>\n",
              "<tr>\n",
              "  <th>Covariance Type:</th>              <td>opg</td>              <th>                     </th>     <td> </td>    \n",
              "</tr>\n",
              "</table>\n",
              "<table class=\"simpletable\">\n",
              "<tr>\n",
              "      <td></td>         <th>coef</th>     <th>std err</th>      <th>z</th>      <th>P>|z|</th>  <th>[0.025</th>    <th>0.975]</th>  \n",
              "</tr>\n",
              "<tr>\n",
              "  <th>intercept</th> <td> 1.044e+04</td> <td> 7445.453</td> <td>    1.402</td> <td> 0.161</td> <td>-4156.652</td> <td>  2.5e+04</td>\n",
              "</tr>\n",
              "<tr>\n",
              "  <th>ar.L1</th>     <td>   -0.9031</td> <td>    0.529</td> <td>   -1.708</td> <td> 0.088</td> <td>   -1.940</td> <td>    0.133</td>\n",
              "</tr>\n",
              "<tr>\n",
              "  <th>ma.L1</th>     <td>    1.1087</td> <td>    0.541</td> <td>    2.049</td> <td> 0.040</td> <td>    0.048</td> <td>    2.169</td>\n",
              "</tr>\n",
              "<tr>\n",
              "  <th>ma.L2</th>     <td>    0.2031</td> <td>    0.129</td> <td>    1.580</td> <td> 0.114</td> <td>   -0.049</td> <td>    0.455</td>\n",
              "</tr>\n",
              "<tr>\n",
              "  <th>ar.S.L6</th>   <td>   -0.1225</td> <td>    0.113</td> <td>   -1.086</td> <td> 0.277</td> <td>   -0.343</td> <td>    0.099</td>\n",
              "</tr>\n",
              "<tr>\n",
              "  <th>ar.S.L12</th>  <td>    0.7940</td> <td>    0.128</td> <td>    6.222</td> <td> 0.000</td> <td>    0.544</td> <td>    1.044</td>\n",
              "</tr>\n",
              "<tr>\n",
              "  <th>ma.S.L6</th>   <td>    0.3768</td> <td>    0.188</td> <td>    2.008</td> <td> 0.045</td> <td>    0.009</td> <td>    0.744</td>\n",
              "</tr>\n",
              "<tr>\n",
              "  <th>ma.S.L12</th>  <td>   -0.2632</td> <td>    0.224</td> <td>   -1.175</td> <td> 0.240</td> <td>   -0.702</td> <td>    0.176</td>\n",
              "</tr>\n",
              "<tr>\n",
              "  <th>sigma2</th>    <td> 1.153e+07</td> <td>   15.630</td> <td> 7.38e+05</td> <td> 0.000</td> <td> 1.15e+07</td> <td> 1.15e+07</td>\n",
              "</tr>\n",
              "</table>\n",
              "<table class=\"simpletable\">\n",
              "<tr>\n",
              "  <th>Ljung-Box (L1) (Q):</th>     <td>0.66</td> <th>  Jarque-Bera (JB):  </th> <td>6.51</td>\n",
              "</tr>\n",
              "<tr>\n",
              "  <th>Prob(Q):</th>                <td>0.42</td> <th>  Prob(JB):          </th> <td>0.04</td>\n",
              "</tr>\n",
              "<tr>\n",
              "  <th>Heteroskedasticity (H):</th> <td>1.74</td> <th>  Skew:              </th> <td>0.47</td>\n",
              "</tr>\n",
              "<tr>\n",
              "  <th>Prob(H) (two-sided):</th>    <td>0.10</td> <th>  Kurtosis:          </th> <td>3.75</td>\n",
              "</tr>\n",
              "</table><br/><br/>Warnings:<br/>[1] Covariance matrix calculated using the outer product of gradients (complex-step).<br/>[2] Covariance matrix is singular or near-singular, with condition number 3.97e+21. Standard errors may be unstable."
            ],
            "text/plain": [
              "<class 'statsmodels.iolib.summary.Summary'>\n",
              "\"\"\"\n",
              "                                     SARIMAX Results                                     \n",
              "=========================================================================================\n",
              "Dep. Variable:                                 y   No. Observations:                  108\n",
              "Model:             SARIMAX(1, 0, 2)x(2, 0, 2, 6)   Log Likelihood               -1035.574\n",
              "Date:                           Tue, 18 Apr 2023   AIC                           2089.149\n",
              "Time:                                   15:17:04   BIC                           2113.288\n",
              "Sample:                               01-01-2005   HQIC                          2098.937\n",
              "                                    - 12-01-2013                                         \n",
              "Covariance Type:                             opg                                         \n",
              "==============================================================================\n",
              "                 coef    std err          z      P>|z|      [0.025      0.975]\n",
              "------------------------------------------------------------------------------\n",
              "intercept   1.044e+04   7445.453      1.402      0.161   -4156.652     2.5e+04\n",
              "ar.L1         -0.9031      0.529     -1.708      0.088      -1.940       0.133\n",
              "ma.L1          1.1087      0.541      2.049      0.040       0.048       2.169\n",
              "ma.L2          0.2031      0.129      1.580      0.114      -0.049       0.455\n",
              "ar.S.L6       -0.1225      0.113     -1.086      0.277      -0.343       0.099\n",
              "ar.S.L12       0.7940      0.128      6.222      0.000       0.544       1.044\n",
              "ma.S.L6        0.3768      0.188      2.008      0.045       0.009       0.744\n",
              "ma.S.L12      -0.2632      0.224     -1.175      0.240      -0.702       0.176\n",
              "sigma2      1.153e+07     15.630   7.38e+05      0.000    1.15e+07    1.15e+07\n",
              "===================================================================================\n",
              "Ljung-Box (L1) (Q):                   0.66   Jarque-Bera (JB):                 6.51\n",
              "Prob(Q):                              0.42   Prob(JB):                         0.04\n",
              "Heteroskedasticity (H):               1.74   Skew:                             0.47\n",
              "Prob(H) (two-sided):                  0.10   Kurtosis:                         3.75\n",
              "===================================================================================\n",
              "\n",
              "Warnings:\n",
              "[1] Covariance matrix calculated using the outer product of gradients (complex-step).\n",
              "[2] Covariance matrix is singular or near-singular, with condition number 3.97e+21. Standard errors may be unstable.\n",
              "\"\"\""
            ]
          },
          "execution_count": 137,
          "metadata": {},
          "output_type": "execute_result"
        }
      ],
      "source": [
        "model.summary()"
      ]
    },
    {
      "cell_type": "markdown",
      "source": [
        "# plots"
      ],
      "metadata": {
        "id": "9pHLidiaJb3D"
      }
    },
    {
      "cell_type": "markdown",
      "source": [
        "## test set chart"
      ],
      "metadata": {
        "id": "vysIgY8HMWsC"
      }
    },
    {
      "cell_type": "markdown",
      "source": [
        "### reading data"
      ],
      "metadata": {
        "id": "03KvTSIvbNKx"
      }
    },
    {
      "cell_type": "code",
      "source": [
        "path =\"/Datasets/nilperMonthly96_new.csv\"\n",
        "dmn2_df = pd.read_csv(path)[:120]\n",
        "dmn2_ds = pd.date_range(start=\"2005-01-01\", periods = len(dmn2_df), freq=\"MS\")\n",
        "dmn2_df[\"ds\"] = demand2_ds"
      ],
      "metadata": {
        "id": "JbJdkR8hMVxB"
      },
      "execution_count": null,
      "outputs": []
    },
    {
      "cell_type": "code",
      "source": [
        "dmn2_df_p = pd.read_excel(\"/Forecasts/demand-2/dmn2_prophet.xlsx\")\n",
        "dmn2_df_p = dmn2_df_p[['ds', 'yhat']]\n",
        "dmn2_df_p['ds'] = ds[: len(dmn2_df_p)]"
      ],
      "metadata": {
        "id": "6--inUgtwXGo"
      },
      "execution_count": null,
      "outputs": []
    },
    {
      "cell_type": "code",
      "source": [
        "dmn2_df_ep = pd.read_excel(\"/Forecasts/demand-2/dmn2_Prophet-EMD.xlsx\")\n",
        "dmn2_df_ep = dmn2_df_ep[['ds', 'yhat']]\n",
        "dmn2_df_ep['ds'] = ds[: len(dmn2_df_ep)]"
      ],
      "metadata": {
        "id": "mwffvUFhwXGo"
      },
      "execution_count": null,
      "outputs": []
    },
    {
      "cell_type": "code",
      "source": [
        "dmn2_df_cp = pd.read_excel(\"/Forecasts/demand-2/dmn2_prophet-ceemdan.xlsx\")\n",
        "dmn2_df_cp = dmn2_df_cp[['ds', 'yhat']]\n",
        "dmn2_df_cp['ds'] = ds[: len(dmn2_df_cp)]"
      ],
      "metadata": {
        "id": "gN79lj4hwXGo"
      },
      "execution_count": null,
      "outputs": []
    },
    {
      "cell_type": "code",
      "source": [
        "dmn2_df_icp = pd.read_excel(\"/Forecasts/demand-2/dmn2_prophet-iceemdan.xlsx\")\n",
        "dmn2_df_icp = dmn2_df_icp[['ds', 'yhat']]\n",
        "dmn2_df_icp['ds'] = ds[: len(dmn2_df_icp)]"
      ],
      "metadata": {
        "id": "H0USCyC-f6Ml"
      },
      "execution_count": null,
      "outputs": []
    },
    {
      "cell_type": "code",
      "source": [
        "dmn2_df_s = pd.read_excel(\"/Forecasts/demand-2/dmn2_Sarimax.xlsx\")\n",
        "dmn2_df_s = dmn2_df_s[0]\n",
        "dmn2_df_s.columns=['yhat']"
      ],
      "metadata": {
        "id": "4-EeyKh3wXGo"
      },
      "execution_count": null,
      "outputs": []
    },
    {
      "cell_type": "markdown",
      "source": [
        "#### plotting"
      ],
      "metadata": {
        "id": "uWEvfOpHbK-P"
      }
    },
    {
      "cell_type": "code",
      "source": [
        "plotting_test(dmn2_df, dmn2_df_p, dmn2_df_ep, dmn2_df_cp, dmn2_df_icp, dmn2_df_s, \"Product demand\", \"Month\", \"demand2_test_func.jpg\", 12)"
      ],
      "metadata": {
        "id": "4g0R4igCxMnQ",
        "colab": {
          "base_uri": "https://localhost:8080/",
          "height": 728
        },
        "outputId": "95e3a723-540d-4d27-a5a9-af6a7553b950"
      },
      "execution_count": null,
      "outputs": [
        {
          "output_type": "display_data",
          "data": {
            "text/plain": [
              "<Figure size 1200x700 with 1 Axes>"
            ],
            "image/png": "[encoded data removed]"
          },
          "metadata": {}
        }
      ]
    },
    {
      "cell_type": "markdown",
      "metadata": {
        "id": "zOEdbK3vnAy9"
      },
      "source": [
        "## bar plot\n"
      ]
    },
    {
      "cell_type": "code",
      "execution_count": null,
      "metadata": {
        "id": "y_ARtm25oFwn"
      },
      "outputs": [],
      "source": [
        "plt.rcParams['font.family'] = 'serif'\n",
        "plt.rcParams['font.serif'] += ['Times Roman']\n",
        "width = 0.1\n",
        "\n",
        "def bar_plotter(values, title, name, tick):\n",
        "  xticks = ['MAPE']\n",
        "  multiplier = 0\n",
        "  x = np.arange(len(xticks))\n",
        "\n",
        "  fig, ax = plt.subplots(layout=\"constrained\", figsize=(10,6))\n",
        "\n",
        "  for i,j in values.items():\n",
        "    offset = width * multiplier\n",
        "    plt.rcParams['font.family'] = 'serif'\n",
        "    plt.rcParams['font.serif'] += ['Times Roman']\n",
        "    rects = ax.bar(x + offset, j, width, label = i)\n",
        "    ax.bar_label(rects, padding=4, fontweight=\"bold\", fontsize=13)\n",
        "    multiplier+=1\n",
        "\n",
        "  plt.legend(fontsize=13, loc=\"upper left\")\n",
        "\n",
        "  ax.set_xticks(x+tick, xticks, fontsize=14, fontweight=\"bold\")\n",
        "  plt.yticks(fontweight='bold', fontsize=14)\n",
        "\n",
        "  ceil = round(max(list(values.values())) + 0.2*(max(list(values.values()))))\n",
        "\n",
        "  plt.ylim(0, ceil)\n",
        "\n",
        "  plt.grid(axis='y')\n",
        "  ax.set_axisbelow(True)\n",
        "  plt.margins(2*(1-len(values)/10), 0)\n",
        "  plt.savefig(f\"{name}.jpg\", dpi=1200)"
      ]
    },
    {
      "cell_type": "markdown",
      "source": [
        "round\n"
      ],
      "metadata": {
        "id": "AJkvO7UOnYMw"
      }
    },
    {
      "cell_type": "code",
      "source": [
        "def rounder(dictionary):\n",
        "  for i,j in dictionary.items():\n",
        "    dictionary[i] = round(j, 2)\n",
        "  return(dictionary)"
      ],
      "metadata": {
        "id": "Opp-rN8KnXmL"
      },
      "execution_count": null,
      "outputs": []
    },
    {
      "cell_type": "code",
      "execution_count": null,
      "metadata": {
        "id": "2DTOG1sjnEgV"
      },
      "outputs": [],
      "source": [
        "dmn2_values = {\n",
        "    # method : (MAPE)\n",
        "    \"Prophet\":(14.34),\n",
        "    \"Prophet-EMD\": (13.32),\n",
        "    \"Prophet-CEEMDAN\":(13.72),\n",
        "    \"Prophet-ICEEMDAN\":(13.48),\n",
        "    \"SARIMAX\":(14.14),\n",
        "    \"Stacked-LSTM\" : (12.80),\n",
        "}\n",
        "\n",
        "bar_plotter(rounder(dmn2_values), \"Furniture Product Demand 2\", \"demand2_comparison_bar\", 0.25)"
      ]
    }
  ]
}